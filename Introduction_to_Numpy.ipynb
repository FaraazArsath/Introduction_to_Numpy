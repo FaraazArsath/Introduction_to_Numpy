{
  "nbformat": 4,
  "nbformat_minor": 0,
  "metadata": {
    "colab": {
      "provenance": [],
      "authorship_tag": "ABX9TyNO1SwBHIYTdHNkTYUI4Z4z",
      "include_colab_link": true
    },
    "kernelspec": {
      "name": "python3",
      "display_name": "Python 3"
    },
    "language_info": {
      "name": "python"
    }
  },
  "cells": [
    {
      "cell_type": "markdown",
      "metadata": {
        "id": "view-in-github",
        "colab_type": "text"
      },
      "source": [
        "<a href=\"https://colab.research.google.com/github/FaraazArsath/Introduction_to_Numpy/blob/main/Introduction_to_Numpy.ipynb\" target=\"_parent\"><img src=\"https://colab.research.google.com/assets/colab-badge.svg\" alt=\"Open In Colab\"/></a>"
      ]
    },
    {
      "cell_type": "markdown",
      "source": [
        "# **Introduction to Numpy**"
      ],
      "metadata": {
        "id": "T7O-gIDzk_NO"
      }
    },
    {
      "cell_type": "markdown",
      "source": [
        "![numpy array.png](data:image/png;base64,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)"
      ],
      "metadata": {
        "id": "Wxqh4uiHltXP"
      }
    },
    {
      "cell_type": "markdown",
      "source": [
        "The main data structure of NumPy is the ndarray or n-dimensional array.\n",
        "\n",
        "The ndarray is a multidimensional container of elements of the same type as depicted below. It can easily deal with matrix and vector operations.\n",
        "\n",
        "Following are the benefits of using Numpy:\n",
        "\n",
        "*   As the array size increases, Numpy can execute more parallel operations, thereby making computation faster. When the array size gets close to 5,000,000, NumPy gets around 120 times faster than Python List.\n",
        "*   NumPy has many optimized built-in mathematical functions. These functions helps in performing variety of complex mathematical computations faster and with very minimal code.\n",
        "\n",
        "*  Another great feature of NumPy is that it has multidimensional array data structures that can represent vectors and matrices. This can be useful as lot of machine learning algorithms rely on matrix operations."
      ],
      "metadata": {
        "id": "3gXCkAv2lyBE"
      }
    },
    {
      "cell_type": "code",
      "source": [
        "import numpy as np\n",
        "#creating list of students marks\n",
        "student_marks_arr = np.array([78, 92, 36, 64, 89])\n",
        "student_marks_arr"
      ],
      "metadata": {
        "colab": {
          "base_uri": "https://localhost:8080/"
        },
        "id": "wpcDmF5fk86S",
        "outputId": "d54a47c8-e242-43fa-d5f1-23eaf13e9283"
      },
      "execution_count": null,
      "outputs": [
        {
          "output_type": "execute_result",
          "data": {
            "text/plain": [
              "array([78, 92, 36, 64, 89])"
            ]
          },
          "metadata": {},
          "execution_count": 1
        }
      ]
    },
    {
      "cell_type": "code",
      "source": [
        "#creating a list of 5 horsepower values\n",
        "horsepower = [130, 165, 150, 150, 140]\n",
        "#creating a numpy array from horsepower list\n",
        "horsepower_arr = np.array(horsepower)\n",
        "horsepower_arr"
      ],
      "metadata": {
        "colab": {
          "base_uri": "https://localhost:8080/"
        },
        "id": "701Q5jDlnS57",
        "outputId": "d55e2252-e6ac-4c4f-883f-881ae7e86052"
      },
      "execution_count": null,
      "outputs": [
        {
          "output_type": "execute_result",
          "data": {
            "text/plain": [
              "array([130, 165, 150, 150, 140])"
            ]
          },
          "metadata": {},
          "execution_count": 2
        }
      ]
    },
    {
      "cell_type": "markdown",
      "source": [
        "How can multiple columns be represented together?\n",
        "This can be achieved by creating the Numpy array from List of Lists.\n",
        "\n",
        "Let us understand , how to represent the car 'mpg', ‘horsepower’, and 'acceleration' values in a Numpy array.\n",
        "\n",
        "The example demonstrates that the Numpy array created using the List of Lists results in a two-dimensional array."
      ],
      "metadata": {
        "id": "NJIDg6UYnZuT"
      }
    },
    {
      "cell_type": "code",
      "source": [
        "#creating a list of lists of 5 mpg, horsepower and acceleration values\n",
        "car_attributes = [[18, 15, 18, 16, 17],[130, 165, 150, 150, 140],[307, 350, 318, 304, 302]]\n",
        "#creating a numpy array from car_attributes list\n",
        "car_attributes_arr = np.array(car_attributes)\n",
        "car_attributes_arr"
      ],
      "metadata": {
        "colab": {
          "base_uri": "https://localhost:8080/"
        },
        "id": "1IGufh7NnV9v",
        "outputId": "d195e908-2c19-4737-d348-2145c0a52fff"
      },
      "execution_count": null,
      "outputs": [
        {
          "output_type": "execute_result",
          "data": {
            "text/plain": [
              "array([[ 18,  15,  18,  16,  17],\n",
              "       [130, 165, 150, 150, 140],\n",
              "       [307, 350, 318, 304, 302]])"
            ]
          },
          "metadata": {},
          "execution_count": 3
        }
      ]
    },
    {
      "cell_type": "markdown",
      "source": [
        "The numpy.ndarray.shape returns a tuple that describes the shape of the array.\n",
        "\n",
        "For example:\n",
        "\n",
        "a one-dimensional array having 10 elements will have a shape as (10,) a two-dimensional array having 10 elements distributed evenly in two rows will have a shape as (2,5) Let us comprehend, how to find out the shape of car attributes array."
      ],
      "metadata": {
        "id": "2OhvR7r4ngXI"
      }
    },
    {
      "cell_type": "code",
      "source": [
        "car_attributes_arr.shape"
      ],
      "metadata": {
        "colab": {
          "base_uri": "https://localhost:8080/"
        },
        "id": "iEQDTa7cne-F",
        "outputId": "eec45751-6b45-4c02-e471-70ac7e23aaba"
      },
      "execution_count": null,
      "outputs": [
        {
          "output_type": "execute_result",
          "data": {
            "text/plain": [
              "(3, 5)"
            ]
          },
          "metadata": {},
          "execution_count": 4
        }
      ]
    },
    {
      "cell_type": "markdown",
      "source": [
        "Here, 3 represents the number of rows and 5 represents the number of elements in each row.\n",
        "\n",
        "'dtype' refers to the data type of the data contained by the array. Numpy supports multiple datatypes like integer, float, string, boolean etc.\n",
        "\n",
        "Below is an example of using dtype property to identify the data type of elements in an array."
      ],
      "metadata": {
        "id": "biFyrtFjnoVj"
      }
    },
    {
      "cell_type": "code",
      "source": [
        "car_attributes_arr.dtype"
      ],
      "metadata": {
        "colab": {
          "base_uri": "https://localhost:8080/"
        },
        "id": "KuaXiqganp3L",
        "outputId": "f97b9d3d-164b-4f24-c967-351026c365e3"
      },
      "execution_count": null,
      "outputs": [
        {
          "output_type": "execute_result",
          "data": {
            "text/plain": [
              "dtype('int64')"
            ]
          },
          "metadata": {},
          "execution_count": 5
        }
      ]
    },
    {
      "cell_type": "code",
      "source": [
        "# Changing dtype\n",
        "car_attributes_arr = np.array(car_attributes, dtype = 'float')\n",
        "print(car_attributes_arr)\n",
        "print(car_attributes_arr.dtype)"
      ],
      "metadata": {
        "colab": {
          "base_uri": "https://localhost:8080/"
        },
        "id": "rKLA6L6UnuCi",
        "outputId": "3e9def54-5262-4879-eebf-660903bff881"
      },
      "execution_count": null,
      "outputs": [
        {
          "output_type": "stream",
          "name": "stdout",
          "text": [
            "[[ 18.  15.  18.  16.  17.]\n",
            " [130. 165. 150. 150. 140.]\n",
            " [307. 350. 318. 304. 302.]]\n",
            "float64\n"
          ]
        }
      ]
    },
    {
      "cell_type": "markdown",
      "source": [
        "![accessing numpy.png](data:image/png;base64,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)"
      ],
      "metadata": {
        "id": "z_vQBdXpn2KT"
      }
    },
    {
      "cell_type": "code",
      "source": [
        "# Accessing element from 1D array\n",
        "#creating an array of cars\n",
        "cars = np.array(['chevrolet', 'maruthi', 'toyoto', 'Hyundai', 'ford'])\n",
        "#accessing the second car from the array\n",
        "cars[1]"
      ],
      "metadata": {
        "colab": {
          "base_uri": "https://localhost:8080/",
          "height": 36
        },
        "id": "VpBs_ESyoNKC",
        "outputId": "20a95964-c4a4-47dd-e838-ccf6b42d748d"
      },
      "execution_count": null,
      "outputs": [
        {
          "output_type": "execute_result",
          "data": {
            "text/plain": [
              "'maruthi'"
            ],
            "application/vnd.google.colaboratory.intrinsic+json": {
              "type": "string"
            }
          },
          "metadata": {},
          "execution_count": 7
        }
      ]
    },
    {
      "cell_type": "code",
      "source": [
        "#Creating a 2D array consisting car names and horsepower\n",
        "car_names = ['chevrolet', 'maruthi', 'toyoto', 'Hyundai', 'ford']\n",
        "horsepower = [190, 165, 150, 150, 140]\n",
        "car_hp_arr = np.array([car_names, horsepower])\n",
        "car_hp_arr"
      ],
      "metadata": {
        "colab": {
          "base_uri": "https://localhost:8080/"
        },
        "id": "hoLsFroboR4U",
        "outputId": "05ef9115-67c3-422a-d210-61099eb7a701"
      },
      "execution_count": null,
      "outputs": [
        {
          "output_type": "execute_result",
          "data": {
            "text/plain": [
              "array([['chevrolet', 'maruthi', 'toyoto', 'Hyundai', 'ford'],\n",
              "       ['190', '165', '150', '150', '140']], dtype='<U21')"
            ]
          },
          "metadata": {},
          "execution_count": 8
        }
      ]
    },
    {
      "cell_type": "code",
      "source": [
        "#Accessing car names\n",
        "car_hp_arr[0]"
      ],
      "metadata": {
        "colab": {
          "base_uri": "https://localhost:8080/"
        },
        "id": "D-rr-rrBoWCy",
        "outputId": "70558264-069b-450a-a8e4-59454f96ae50"
      },
      "execution_count": null,
      "outputs": [
        {
          "output_type": "execute_result",
          "data": {
            "text/plain": [
              "array(['chevrolet', 'maruthi', 'toyoto', 'Hyundai', 'ford'], dtype='<U21')"
            ]
          },
          "metadata": {},
          "execution_count": 9
        }
      ]
    },
    {
      "cell_type": "code",
      "source": [
        "car_hp_arr[1]"
      ],
      "metadata": {
        "colab": {
          "base_uri": "https://localhost:8080/"
        },
        "id": "UwLO_RcjoYzY",
        "outputId": "e689ecc0-7ee9-499b-f38b-2fa7b271537c"
      },
      "execution_count": null,
      "outputs": [
        {
          "output_type": "execute_result",
          "data": {
            "text/plain": [
              "array(['190', '165', '150', '150', '140'], dtype='<U21')"
            ]
          },
          "metadata": {},
          "execution_count": 10
        }
      ]
    },
    {
      "cell_type": "code",
      "source": [
        "print(car_hp_arr[0,0])\n",
        "print(car_hp_arr[1,0])\n",
        "print(car_hp_arr[0,-5])"
      ],
      "metadata": {
        "colab": {
          "base_uri": "https://localhost:8080/"
        },
        "id": "sB16XyqNobSh",
        "outputId": "9012eb8f-33da-4cb5-f0ce-8770670f81bb"
      },
      "execution_count": null,
      "outputs": [
        {
          "output_type": "stream",
          "name": "stdout",
          "text": [
            "chevrolet\n",
            "190\n",
            "chevrolet\n"
          ]
        }
      ]
    },
    {
      "cell_type": "code",
      "source": [
        "# Slicing from 1D array\n",
        "#creating an array of cars\n",
        "cars = np.array(['honda', 'bmw', 'maruthi', 'tata motors', 'ford'])\n",
        "#accessing a subset of cars from the array\n",
        "cars[1:3]"
      ],
      "metadata": {
        "colab": {
          "base_uri": "https://localhost:8080/"
        },
        "id": "ffIZXco7oeI1",
        "outputId": "67d95543-5d29-41e0-f273-370f89dfb832"
      },
      "execution_count": null,
      "outputs": [
        {
          "output_type": "execute_result",
          "data": {
            "text/plain": [
              "array(['bmw', 'maruthi'], dtype='<U11')"
            ]
          },
          "metadata": {},
          "execution_count": 12
        }
      ]
    },
    {
      "cell_type": "code",
      "source": [
        "# Slicing from 2D array\n",
        "#Creating a 2D array consisting car names, horsepower and acceleration\n",
        "car_names = ['honda', 'bmw', 'maruthi', 'tata motors', 'ford']\n",
        "#horsepower = [190, 165, 150, 150, 140]\n",
        "acceleration = [18, 15, 18, 16, 17]\n",
        "car_hp_acc_arr = np.array([car_names, horsepower, acceleration])\n",
        "print(car_hp_acc_arr)"
      ],
      "metadata": {
        "colab": {
          "base_uri": "https://localhost:8080/"
        },
        "id": "QerUoNrtohOv",
        "outputId": "85ee1d5d-784b-4aec-f1de-e40d70ff3191"
      },
      "execution_count": null,
      "outputs": [
        {
          "output_type": "stream",
          "name": "stdout",
          "text": [
            "[['honda' 'bmw' 'maruthi' 'tata motors' 'ford']\n",
            " ['190' '165' '150' '150' '140']\n",
            " ['18' '15' '18' '16' '17']]\n"
          ]
        }
      ]
    },
    {
      "cell_type": "code",
      "source": [
        "#Accessing name and horsepower\n",
        "car_hp_acc_arr[0:2]"
      ],
      "metadata": {
        "colab": {
          "base_uri": "https://localhost:8080/"
        },
        "id": "prvohD0aosYE",
        "outputId": "e0b6f3e0-bedc-45a3-cde9-98d154404489"
      },
      "execution_count": null,
      "outputs": [
        {
          "output_type": "execute_result",
          "data": {
            "text/plain": [
              "array([['honda', 'bmw', 'maruthi', 'tata motors', 'ford'],\n",
              "       ['190', '165', '150', '150', '140']], dtype='<U21')"
            ]
          },
          "metadata": {},
          "execution_count": 16
        }
      ]
    },
    {
      "cell_type": "code",
      "source": [
        "#Accessing name and horsepower of last two cars\n",
        "car_hp_acc_arr[0:2, 3:5]"
      ],
      "metadata": {
        "colab": {
          "base_uri": "https://localhost:8080/"
        },
        "id": "5wE_0WCnotwZ",
        "outputId": "42d1cf71-cce1-4401-d847-a725de221470"
      },
      "execution_count": null,
      "outputs": [
        {
          "output_type": "execute_result",
          "data": {
            "text/plain": [
              "array([['tata motors', 'ford'],\n",
              "       ['150', '140']], dtype='<U21')"
            ]
          },
          "metadata": {},
          "execution_count": 17
        }
      ]
    },
    {
      "cell_type": "code",
      "source": [
        "#Accessing name and horsepower of last two cars\n",
        "car_hp_acc_arr[0:2, 3:5]"
      ],
      "metadata": {
        "colab": {
          "base_uri": "https://localhost:8080/"
        },
        "id": "O2u-nd2DoxFD",
        "outputId": "a9147d20-3a87-4be5-ad90-84eca42b798b"
      },
      "execution_count": null,
      "outputs": [
        {
          "output_type": "execute_result",
          "data": {
            "text/plain": [
              "array([['tata motors', 'ford'],\n",
              "       ['150', '140']], dtype='<U21')"
            ]
          },
          "metadata": {},
          "execution_count": 18
        }
      ]
    },
    {
      "cell_type": "markdown",
      "source": [
        "**Operations on Numpy Arrays**"
      ],
      "metadata": {
        "id": "OFL-xel_o7wx"
      }
    },
    {
      "cell_type": "code",
      "source": [
        "# Finding Mean & Median\n",
        "#creating a numpy array from horsepower list\n",
        "horsepower_arr = np.array(horsepower)\n",
        "#mean horsepower\n",
        "print(\"Mean horsepower = \",np.mean(horsepower_arr))\n",
        "#median horsepower\n",
        "print(\"Median horsepower = \",np.median(horsepower_arr))\n",
        "\n",
        "print(\"Minimum horsepower: \", np.min(horsepower_arr))\n",
        "print(\"Maximum horsepower: \", np.max(horsepower_arr))\n",
        "\n",
        "print(\"Index of Minimum horsepower: \", np.argmin(horsepower_arr))\n",
        "print(\"Index of Maximum horsepower: \", np.argmax(horsepower_arr))"
      ],
      "metadata": {
        "colab": {
          "base_uri": "https://localhost:8080/"
        },
        "id": "0VwRhlz9o0JO",
        "outputId": "77b17b78-efda-41fd-d718-715b676f7879"
      },
      "execution_count": null,
      "outputs": [
        {
          "output_type": "stream",
          "name": "stdout",
          "text": [
            "Mean horsepower =  159.0\n",
            "Median horsepower =  150.0\n",
            "Minimum horsepower:  140\n",
            "Maximum horsepower:  190\n",
            "Index of Minimum horsepower:  4\n",
            "Index of Maximum horsepower:  0\n"
          ]
        }
      ]
    },
    {
      "cell_type": "code",
      "source": [
        "# Querying/searching in an array\n",
        "# The engineers at ABC Custom Cars want to know the horsepower of cars that are greater than or equal to 150.\n",
        "x = np.where(horsepower_arr >= 150)\n",
        "print(x)\n",
        "horsepower_arr[x]"
      ],
      "metadata": {
        "colab": {
          "base_uri": "https://localhost:8080/"
        },
        "id": "KacYaNqHpB4a",
        "outputId": "350b3f93-e46c-4cd1-fb95-2831599ea73e"
      },
      "execution_count": null,
      "outputs": [
        {
          "output_type": "stream",
          "name": "stdout",
          "text": [
            "(array([0, 1, 2, 3]),)\n"
          ]
        },
        {
          "output_type": "execute_result",
          "data": {
            "text/plain": [
              "array([190, 165, 150, 150])"
            ]
          },
          "metadata": {},
          "execution_count": 20
        }
      ]
    },
    {
      "cell_type": "code",
      "source": [
        "# Filtering\n",
        "# The Engineers at ABC Custom Cars want to create a separate array consisting of filtered values of horsepower greater than 135.\n",
        "#creating filter array\n",
        "filter_arr = horsepower_arr > 155\n",
        "print(filter_arr)\n",
        "new_arr = horsepower_arr[filter_arr]\n",
        "print(new_arr)"
      ],
      "metadata": {
        "colab": {
          "base_uri": "https://localhost:8080/"
        },
        "id": "xXIiSqP1pDzZ",
        "outputId": "d39b846a-4f01-4b5c-9059-98424a6026a9"
      },
      "execution_count": null,
      "outputs": [
        {
          "output_type": "stream",
          "name": "stdout",
          "text": [
            "[ True  True False False False]\n",
            "[190 165]\n"
          ]
        }
      ]
    },
    {
      "cell_type": "code",
      "source": [
        "# Sorting an array\n",
        "# The engineers at ABC Custom Cars want the horsepower in sorted order.\n",
        "#using sort(array)\n",
        "print('original array: ', horsepower_arr)\n",
        "print('Sorted array: ', np.sort(horsepower_arr))"
      ],
      "metadata": {
        "colab": {
          "base_uri": "https://localhost:8080/"
        },
        "id": "8VZM8gE1pHHe",
        "outputId": "b3666f3c-1d32-42b1-992e-48d6732404dd"
      },
      "execution_count": null,
      "outputs": [
        {
          "output_type": "stream",
          "name": "stdout",
          "text": [
            "original array:  [190 165 150 150 140]\n",
            "Sorted array:  [140 150 150 165 190]\n"
          ]
        }
      ]
    },
    {
      "cell_type": "code",
      "source": [
        "horsepower_arr.sort()\n",
        "print('original array after sorting: ', horsepower_arr)"
      ],
      "metadata": {
        "colab": {
          "base_uri": "https://localhost:8080/"
        },
        "id": "MBxT07yUpLQS",
        "outputId": "f2259b53-0b1f-40ce-8763-c6b63381e49b"
      },
      "execution_count": null,
      "outputs": [
        {
          "output_type": "stream",
          "name": "stdout",
          "text": [
            "original array after sorting:  [140 150 150 165 190]\n"
          ]
        }
      ]
    },
    {
      "cell_type": "markdown",
      "source": [
        "**Vectorization**\n",
        "\n",
        "Vectorization is the process of transforming a scalar operation acting on individual data elements (Single Instruction Single Data—SISD) to an operation where a single instruction operates concurrently on multiple data elements (SIMD).\n",
        "\n",
        "The mathematical operations can be performed on Numpy arrays. Numpy makes use of optimized, pre-compiled code to perform mathematical operations on each array element. This eliminates the need of using loops, thereby enhancing the performance. This process is called vectorization.\n",
        "\n",
        "Numpy provides various mathematical functions such as sum(), add(), sub(), log(), sin() etc. which uses vectorization."
      ],
      "metadata": {
        "id": "CULJ_z03pVVl"
      }
    },
    {
      "cell_type": "code",
      "source": [
        "student_marks = [30,50,80,80,90]\n",
        "print(np.sum(student_marks))\n",
        "additional_marks = [2,3,5,2,5]\n",
        "marks = np.add(student_marks ,additional_marks)\n",
        "print(marks)"
      ],
      "metadata": {
        "colab": {
          "base_uri": "https://localhost:8080/"
        },
        "id": "fzrEfWvdCseM",
        "outputId": "11ccb111-7640-4e4a-a736-4b92bbcecdd3"
      },
      "execution_count": 24,
      "outputs": [
        {
          "output_type": "stream",
          "name": "stdout",
          "text": [
            "330\n",
            "[32 53 85 82 95]\n"
          ]
        }
      ]
    },
    {
      "cell_type": "code",
      "source": [
        "exp = np.power(student_marks ,additional_marks)\n",
        "print(exp)"
      ],
      "metadata": {
        "colab": {
          "base_uri": "https://localhost:8080/"
        },
        "id": "QWjnr_68Cwm2",
        "outputId": "c2cfe545-7b57-452c-f4e4-656a6e0ef856"
      },
      "execution_count": 25,
      "outputs": [
        {
          "output_type": "stream",
          "name": "stdout",
          "text": [
            "[       900     125000 3276800000       6400 5904900000]\n"
          ]
        }
      ]
    },
    {
      "cell_type": "markdown",
      "source": [
        "**Broadcasting**\n",
        "\n",
        "\"Broadcasting\" refers to the term on how Numpy handles arrays with different shapes during arithmetic operations. Array of smaller size is stretched or copied across the larger array.\n",
        "\n",
        "![image.png](data:image/png;base64,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)"
      ],
      "metadata": {
        "id": "Cw2DGn7SC3ol"
      }
    },
    {
      "cell_type": "code",
      "source": [
        "import numpy as np\n",
        "# Array 1\n",
        "array1=np.array([5, 10, 15])\n",
        "# Array 2\n",
        "array2=np.array([5])\n",
        "array3= array1 * array2\n",
        "array3"
      ],
      "metadata": {
        "colab": {
          "base_uri": "https://localhost:8080/"
        },
        "id": "G-BYdB69DCRB",
        "outputId": "a2b58d97-7768-47f7-8931-06b17b8a3e05"
      },
      "execution_count": 26,
      "outputs": [
        {
          "output_type": "execute_result",
          "data": {
            "text/plain": [
              "array([25, 50, 75])"
            ]
          },
          "metadata": {},
          "execution_count": 26
        }
      ]
    },
    {
      "cell_type": "markdown",
      "source": [
        "**Other Basics in Numpy**"
      ],
      "metadata": {
        "id": "HKw-Ib3jEGoL"
      }
    },
    {
      "cell_type": "code",
      "source": [
        "#start and end limit\n",
        "np.arange(0,10000)"
      ],
      "metadata": {
        "colab": {
          "base_uri": "https://localhost:8080/"
        },
        "id": "ZSBQzfLODJb9",
        "outputId": "c73890b1-74af-4273-9905-9e24cc746158"
      },
      "execution_count": 27,
      "outputs": [
        {
          "output_type": "execute_result",
          "data": {
            "text/plain": [
              "array([   0,    1,    2, ..., 9997, 9998, 9999])"
            ]
          },
          "metadata": {},
          "execution_count": 27
        }
      ]
    },
    {
      "cell_type": "code",
      "source": [
        "#step value = 2\n",
        "np.arange(0,10,2)"
      ],
      "metadata": {
        "colab": {
          "base_uri": "https://localhost:8080/"
        },
        "id": "vlZC23OdC7o4",
        "outputId": "fb930ba8-555c-42fe-cac8-51401b767ded"
      },
      "execution_count": 28,
      "outputs": [
        {
          "output_type": "execute_result",
          "data": {
            "text/plain": [
              "array([0, 2, 4, 6, 8])"
            ]
          },
          "metadata": {},
          "execution_count": 28
        }
      ]
    },
    {
      "cell_type": "code",
      "source": [
        "# Linspace\n",
        "\n",
        "# This method returns the given number of evenly spaced values, between the given intervals. By default, the number of values between a given interval is 50.\n",
        "arr = np.linspace(0,10)\n",
        "print(arr)\n",
        "print('Length of arr: ',len(arr))"
      ],
      "metadata": {
        "colab": {
          "base_uri": "https://localhost:8080/"
        },
        "id": "Er_izGanEXYP",
        "outputId": "0d664be1-47ac-442d-f700-780414c7f367"
      },
      "execution_count": 29,
      "outputs": [
        {
          "output_type": "stream",
          "name": "stdout",
          "text": [
            "[ 0.          0.20408163  0.40816327  0.6122449   0.81632653  1.02040816\n",
            "  1.2244898   1.42857143  1.63265306  1.83673469  2.04081633  2.24489796\n",
            "  2.44897959  2.65306122  2.85714286  3.06122449  3.26530612  3.46938776\n",
            "  3.67346939  3.87755102  4.08163265  4.28571429  4.48979592  4.69387755\n",
            "  4.89795918  5.10204082  5.30612245  5.51020408  5.71428571  5.91836735\n",
            "  6.12244898  6.32653061  6.53061224  6.73469388  6.93877551  7.14285714\n",
            "  7.34693878  7.55102041  7.75510204  7.95918367  8.16326531  8.36734694\n",
            "  8.57142857  8.7755102   8.97959184  9.18367347  9.3877551   9.59183673\n",
            "  9.79591837 10.        ]\n",
            "Length of arr:  50\n"
          ]
        }
      ]
    },
    {
      "cell_type": "code",
      "source": [
        "#Number of values = 3\n",
        "print(np.linspace(0,10,3))"
      ],
      "metadata": {
        "colab": {
          "base_uri": "https://localhost:8080/"
        },
        "id": "1Zn7k85dEfKp",
        "outputId": "e94c7b15-2271-48ad-ff43-2664f5c8c293"
      },
      "execution_count": 30,
      "outputs": [
        {
          "output_type": "stream",
          "name": "stdout",
          "text": [
            "[ 0.  5. 10.]\n"
          ]
        }
      ]
    },
    {
      "cell_type": "code",
      "source": [
        "#1D\n",
        "np.zeros(5)"
      ],
      "metadata": {
        "colab": {
          "base_uri": "https://localhost:8080/"
        },
        "id": "JXClrnX9Ekdw",
        "outputId": "8e960a7c-0c3d-40bf-f922-bdf3b474f3a9"
      },
      "execution_count": 31,
      "outputs": [
        {
          "output_type": "execute_result",
          "data": {
            "text/plain": [
              "array([0., 0., 0., 0., 0.])"
            ]
          },
          "metadata": {},
          "execution_count": 31
        }
      ]
    },
    {
      "cell_type": "code",
      "source": [
        "#2D\n",
        "np.zeros([2,5])"
      ],
      "metadata": {
        "colab": {
          "base_uri": "https://localhost:8080/"
        },
        "id": "b_1xiNjBEnsi",
        "outputId": "b3431a0c-a3ab-4eef-cb23-62b892df3d4a"
      },
      "execution_count": 32,
      "outputs": [
        {
          "output_type": "execute_result",
          "data": {
            "text/plain": [
              "array([[0., 0., 0., 0., 0.],\n",
              "       [0., 0., 0., 0., 0.]])"
            ]
          },
          "metadata": {},
          "execution_count": 32
        }
      ]
    },
    {
      "cell_type": "code",
      "source": [
        "#2D\n",
        "np.ones([2,1])"
      ],
      "metadata": {
        "colab": {
          "base_uri": "https://localhost:8080/"
        },
        "id": "YXMUB0SLE1Bs",
        "outputId": "be52c506-67d0-441b-cdc3-a0786c6bd3f9"
      },
      "execution_count": 33,
      "outputs": [
        {
          "output_type": "execute_result",
          "data": {
            "text/plain": [
              "array([[1.],\n",
              "       [1.]])"
            ]
          },
          "metadata": {},
          "execution_count": 33
        }
      ]
    },
    {
      "cell_type": "code",
      "source": [
        "#number=5, value=8\n",
        "np.full(5,8)"
      ],
      "metadata": {
        "colab": {
          "base_uri": "https://localhost:8080/"
        },
        "id": "uq-YJP5LE5cC",
        "outputId": "50454871-2385-4917-e72f-9e9beac984f0"
      },
      "execution_count": 34,
      "outputs": [
        {
          "output_type": "execute_result",
          "data": {
            "text/plain": [
              "array([8, 8, 8, 8, 8])"
            ]
          },
          "metadata": {},
          "execution_count": 34
        }
      ]
    },
    {
      "cell_type": "code",
      "source": [
        "#shape=[3,3], value=numpy\n",
        "np.full([3,3],'numpy')"
      ],
      "metadata": {
        "colab": {
          "base_uri": "https://localhost:8080/"
        },
        "id": "836iFBvJE85p",
        "outputId": "b52184fa-8e80-4bef-a3a8-62533daa9551"
      },
      "execution_count": 35,
      "outputs": [
        {
          "output_type": "execute_result",
          "data": {
            "text/plain": [
              "array([['numpy', 'numpy', 'numpy'],\n",
              "       ['numpy', 'numpy', 'numpy'],\n",
              "       ['numpy', 'numpy', 'numpy']], dtype='<U5')"
            ]
          },
          "metadata": {},
          "execution_count": 35
        }
      ]
    },
    {
      "cell_type": "code",
      "source": [
        "#3x3 identity matrix\n",
        "np.eye(3)"
      ],
      "metadata": {
        "colab": {
          "base_uri": "https://localhost:8080/"
        },
        "id": "8R7AkRaIFAcy",
        "outputId": "398f2351-d1ad-41c7-fc76-8a575156d363"
      },
      "execution_count": 36,
      "outputs": [
        {
          "output_type": "execute_result",
          "data": {
            "text/plain": [
              "array([[1., 0., 0.],\n",
              "       [0., 1., 0.],\n",
              "       [0., 0., 1.]])"
            ]
          },
          "metadata": {},
          "execution_count": 36
        }
      ]
    },
    {
      "cell_type": "code",
      "source": [
        "#generating 5 random numbers from a uniform distribution\n",
        "np.random.rand(5)"
      ],
      "metadata": {
        "colab": {
          "base_uri": "https://localhost:8080/"
        },
        "id": "OpMMXl85FFEl",
        "outputId": "2844164a-5fa9-45d9-fddc-46ffe7fb710b"
      },
      "execution_count": 37,
      "outputs": [
        {
          "output_type": "execute_result",
          "data": {
            "text/plain": [
              "array([0.80867031, 0.93974076, 0.37119917, 0.19923865, 0.44448265])"
            ]
          },
          "metadata": {},
          "execution_count": 37
        }
      ]
    },
    {
      "cell_type": "code",
      "source": [
        "#random integer values low=1, high=10, number of values=5\n",
        "np.random.randint(1,10, size=5)"
      ],
      "metadata": {
        "colab": {
          "base_uri": "https://localhost:8080/"
        },
        "id": "qUwr2-aaFKG-",
        "outputId": "f518622c-3e5a-4ac7-adb2-67c3217aedd9"
      },
      "execution_count": 38,
      "outputs": [
        {
          "output_type": "execute_result",
          "data": {
            "text/plain": [
              "array([9, 6, 6, 8, 4])"
            ]
          },
          "metadata": {},
          "execution_count": 38
        }
      ]
    },
    {
      "cell_type": "code",
      "source": [
        "#random integer values high=100, shape = (3,5)\n",
        "x = np.random.randint(100, size=(3, 5))\n",
        "print(x)\n",
        "print(type(x))"
      ],
      "metadata": {
        "colab": {
          "base_uri": "https://localhost:8080/"
        },
        "id": "7lRjjw3IFO3C",
        "outputId": "535ace00-f5b0-4509-e657-4f9a6c37e5ca"
      },
      "execution_count": 39,
      "outputs": [
        {
          "output_type": "stream",
          "name": "stdout",
          "text": [
            "[[95 16 71 86 65]\n",
            " [42 24 42 89 11]\n",
            " [20 18 11 97 87]]\n",
            "<class 'numpy.ndarray'>\n"
          ]
        }
      ]
    },
    {
      "cell_type": "code",
      "source": [
        "#returns a single random value from the array\n",
        "x = np.random.choice([9, 3, 7, 5])\n",
        "print(x)\n",
        "print(type(x))"
      ],
      "metadata": {
        "colab": {
          "base_uri": "https://localhost:8080/"
        },
        "id": "a2Ajwg5RFV10",
        "outputId": "70f855dd-8e63-4479-d496-326a37aa135b"
      },
      "execution_count": 42,
      "outputs": [
        {
          "output_type": "stream",
          "name": "stdout",
          "text": [
            "3\n",
            "<class 'numpy.int64'>\n"
          ]
        }
      ]
    },
    {
      "cell_type": "code",
      "source": [
        "#returns 3*5 random values from the array\n",
        "x = np.random.choice([9, 3, 7, 5], size=(3, 5))   # sampling to create an nd-array\n",
        "print(x)\n",
        "print(type(x))"
      ],
      "metadata": {
        "colab": {
          "base_uri": "https://localhost:8080/"
        },
        "id": "xdc4wD6bFahw",
        "outputId": "9be63e74-4312-481f-922e-b5292e0344dd"
      },
      "execution_count": 43,
      "outputs": [
        {
          "output_type": "stream",
          "name": "stdout",
          "text": [
            "[[3 5 5 3 7]\n",
            " [5 3 5 9 5]\n",
            " [3 5 9 5 9]]\n",
            "<class 'numpy.ndarray'>\n"
          ]
        }
      ]
    },
    {
      "cell_type": "markdown",
      "source": [
        "![Numpy Exercise.png](data:image/png;base64,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)"
      ],
      "metadata": {
        "id": "WywWEyPmFoWS"
      }
    },
    {
      "cell_type": "code",
      "source": [
        "# Solution to Problem Statement\n",
        "steps = np.array([[1,6012],[2,7079],[3,6886],[4,7230],[5,4598],[6,5564],[7,6971],[8,7763],[9,8032],[10,9569]])\n",
        "print('Representing Data:',steps.shape)\n",
        "after7steps = [0,2000]\n",
        "new_steps = np.add(steps,after7steps)\n",
        "print('Adding 2000 Steps after 7 pm :', new_steps)\n",
        "# Program that returns steps walked are more than 9000\n",
        "filter_arr = new_steps > 9000\n",
        "after_filter = new_steps[filter_arr]\n",
        "print('Steps walked more than 9000 steps: ',after_filter)\n",
        "#Program for sorting\n",
        "print('Steps Walked in a sorted order:',np.sort(new_steps[:,1]))"
      ],
      "metadata": {
        "colab": {
          "base_uri": "https://localhost:8080/"
        },
        "id": "4i_mKFVXFjlE",
        "outputId": "1e6f302d-d687-4ccb-bd59-aef55763d483"
      },
      "execution_count": 44,
      "outputs": [
        {
          "output_type": "stream",
          "name": "stdout",
          "text": [
            "Representing Data: (10, 2)\n",
            "Adding 2000 Steps after 7 pm : [[    1  8012]\n",
            " [    2  9079]\n",
            " [    3  8886]\n",
            " [    4  9230]\n",
            " [    5  6598]\n",
            " [    6  7564]\n",
            " [    7  8971]\n",
            " [    8  9763]\n",
            " [    9 10032]\n",
            " [   10 11569]]\n",
            "Steps walked more than 9000 steps:  [ 9079  9230  9763 10032 11569]\n",
            "Steps Walked in a sorted order: [ 6598  7564  8012  8886  8971  9079  9230  9763 10032 11569]\n"
          ]
        }
      ]
    }
  ]
}